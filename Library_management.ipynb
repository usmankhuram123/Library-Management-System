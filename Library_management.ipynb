{
 "cells": [
  {
   "cell_type": "code",
   "execution_count": null,
   "id": "33dea76b-b89c-451f-959d-5ef6c4daedbe",
   "metadata": {},
   "outputs": [],
   "source": [
    "Books= [\n",
    "    {\n",
    "    \"Title\": \"Python Programming\",\n",
    "    \"Author\": \"M. Ahamd\",\n",
    "    \"Issue\": False\n",
    "    },\n",
    "    {\n",
    "    \"Title\": \"Data Science\",\n",
    "    \"Author\": \"Zari\",\n",
    "    \"Issue\": True\n",
    "    },\n",
    "    {\n",
    "    \"Title\": \"Javascript\",\n",
    "    \"Author\": \"Mustafa\",\n",
    "    \"Issue\": True\n",
    "    },\n",
    "    {\n",
    "    \"Title\": \"Flutter\",\n",
    "    \"Author\": \"Zain\",\n",
    "    \"Issue\": False\n",
    "    }  \n",
    "]"
   ]
  },
  {
   "cell_type": "code",
   "execution_count": null,
   "id": "f7732620-43b6-4c4a-aea9-582c3581ed50",
   "metadata": {},
   "outputs": [],
   "source": [
    "def display_books():\n",
    "    print()\n",
    "    for book in Books:\n",
    "        print(book)"
   ]
  },
  {
   "cell_type": "code",
   "execution_count": null,
   "id": "ef8a30e7-0d9b-4782-85a4-b9891ce6028a",
   "metadata": {},
   "outputs": [],
   "source": [
    "def display_menu():\n",
    "    print(\"\"\"\n",
    "        1. Add New Book.\n",
    "        2. Delete Book.\n",
    "        3. Update Book.\n",
    "        4. Issue Book to a User.\n",
    "        5. Return Book.\n",
    "        6. Search Book by Title or Author.\n",
    "        7. List Available Books.\n",
    "        8. List Issued Books.\n",
    "        9. Exit.\n",
    "        \"\"\")"
   ]
  },
  {
   "cell_type": "code",
   "execution_count": null,
   "id": "4b446c0b-2041-4917-b582-183276921024",
   "metadata": {},
   "outputs": [],
   "source": [
    "def delete_book():\n",
    "    title = input(\"\\nEnter the book title you want to remove: \\n\").strip()\n",
    "    for book in Books:\n",
    "        if book[\"Title\"] == title.title():\n",
    "            Books.remove(book)\n",
    "            print(f\"Book '{title}' deleted.\")\n",
    "            return\n",
    "    print(\"Book not found.\")"
   ]
  },
  {
   "cell_type": "code",
   "execution_count": null,
   "id": "fb900d14-e1db-4c97-8a4f-a1543112d159",
   "metadata": {},
   "outputs": [],
   "source": [
    "def add_book():\n",
    "    print(\"\\n--------- Add Book -----------\")\n",
    "    title = input(\"Type title of the book you want to add: \").strip()\n",
    "    author = input(\"Type the Author's name of the book: \").strip()\n",
    "    dic = { \"Title\": title, \"Author\": author, \"Issue\": False }\n",
    "    Books.append(dic)"
   ]
  },
  {
   "cell_type": "code",
   "execution_count": null,
   "id": "b75c72ae-39ec-48ad-95de-3984bd4c6073",
   "metadata": {},
   "outputs": [],
   "source": [
    "def update_book():\n",
    "    print(\"\\n--------- Update Book -----------\\n\")\n",
    "    title = input(\"Enter the title you want to change: \")\n",
    "    for book in Books:\n",
    "        if book[\"Title\"] == title.title():\n",
    "            new_title = input(\"Enter the new title of the book: \").strip()\n",
    "            new_author = input(\"Enter the new author of the book: \").strip()\n",
    "            book[\"Title\"] = new_title\n",
    "            book[\"Author\"] = new_author\n",
    "            print(\"\\nBook Updated.\\n\")\n",
    "            return\n",
    "    print(\"Book not found.\")"
   ]
  },
  {
   "cell_type": "code",
   "execution_count": null,
   "id": "d8277f41-0816-445d-b390-010632067af7",
   "metadata": {},
   "outputs": [],
   "source": [
    "def Issue_book():\n",
    "    user_title = input(\"Enter the book name: \").strip()\n",
    "    for book in Books:\n",
    "        if book[\"Title\"] == user_title.title():\n",
    "            if book[\"Issue\"] == False:\n",
    "                book[\"Issue\"] = True\n",
    "                print(\"\\n{user_title} has been issued to you.\\n\")\n",
    "                return\n",
    "            else:\n",
    "                print(f\"{user_title} is not Available.\")\n",
    "                return"
   ]
  },
  {
   "cell_type": "code",
   "execution_count": null,
   "id": "7a49e5d5-93c3-4706-86f5-0ebe73e1deb8",
   "metadata": {},
   "outputs": [],
   "source": [
    "def ret_book():\n",
    "    user_title = input(\"\\nEnter the book you want to return: \\n\").strip()\n",
    "    for book in Books:\n",
    "        if book[\"Title\"] == user_title:\n",
    "            if book[\"Issue\"] == True:\n",
    "                book[\"Issue\"] = False\n",
    "                print(\"\\nThanks for returning the book.\")\n",
    "                return\n",
    "            else:\n",
    "                print(\"Bad Input..This book is already in the library.\")\n",
    "                return"
   ]
  },
  {
   "cell_type": "code",
   "execution_count": null,
   "id": "4e95bc24-7568-4b00-8e48-c8cb97983c00",
   "metadata": {},
   "outputs": [],
   "source": [
    "def search_book():\n",
    "    user_title = input(\"\\nEnter the book you want to search: \\n\").strip()\n",
    "    for book in Books:\n",
    "        if book[\"Title\"] == user_title:\n",
    "            if book[\"Issue\"] == False:\n",
    "                print(\"Here is the book.\")\n",
    "                print([book])\n",
    "                return\n",
    "            else:\n",
    "                print(f\"{user_title} is not available in Library.\")\n",
    "                return"
   ]
  },
  {
   "cell_type": "code",
   "execution_count": null,
   "id": "5499e868-ca0d-4d53-95b4-0f02c3585aa3",
   "metadata": {},
   "outputs": [],
   "source": [
    "def Available_books():\n",
    "    for book in Books:\n",
    "        if book[\"Issue\"] == False:\n",
    "            print([book])"
   ]
  },
  {
   "cell_type": "code",
   "execution_count": null,
   "id": "377940e2-7a37-403c-803d-029f834905bb",
   "metadata": {},
   "outputs": [],
   "source": [
    "def issued_books():\n",
    "    for book in Books:\n",
    "        if book[\"Issue\"] == True:\n",
    "            print([book])"
   ]
  },
  {
   "cell_type": "code",
   "execution_count": null,
   "id": "a9f35554-6b19-43b2-a493-aba14613d078",
   "metadata": {},
   "outputs": [],
   "source": [
    "def decision():\n",
    "    dec = input(\"\\nDo you want to see the menu again? (y/n): \\n\")\n",
    "    if dec == 'y':\n",
    "        return True"
   ]
  },
  {
   "cell_type": "code",
   "execution_count": null,
   "id": "87707367-e3d3-4c57-a8a6-2abe67f5f0ff",
   "metadata": {},
   "outputs": [],
   "source": [
    "print(\"--------------------- 📚 Library Management System 📚 -------------------\")\n",
    "\n",
    "while True:\n",
    "    display_books()\n",
    "    display_menu()\n",
    "    opt = int(input(\"\\nChoose one options from 1-9: \"))\n",
    "    \n",
    "    if opt not in range(1, 10):\n",
    "        print(\"\\nPlease Enter the options from the given\")\n",
    "        continue\n",
    "    elif opt == 1:\n",
    "        display_books()\n",
    "        add_book()\n",
    "        display_books()\n",
    "        if decision():\n",
    "            continue\n",
    "      #  break\n",
    "    elif opt == 2:\n",
    "        display_books()\n",
    "        delete_book()\n",
    "        display_books()\n",
    "        if decision():\n",
    "            continue\n",
    "      #  break\n",
    "    elif opt == 3:\n",
    "        display_books()\n",
    "        update_book()\n",
    "        display_books()\n",
    "        if decision():\n",
    "            continue\n",
    "      #  break\n",
    "    elif opt == 4:\n",
    "        display_books()\n",
    "        Issue_book()\n",
    "        if decision():\n",
    "            continue\n",
    "      #  break\n",
    "    elif opt == 5:\n",
    "        display_books()\n",
    "        ret_book()\n",
    "        display_books()\n",
    "        if decision():\n",
    "            continue\n",
    "      #  break\n",
    "    elif opt == 6:\n",
    "        display_books()\n",
    "        search_book()\n",
    "        if decision():\n",
    "            continue\n",
    "      #  break\n",
    "    elif opt == 7:\n",
    "        Available_books()\n",
    "        if decision():\n",
    "            continue\n",
    "       # break\n",
    "    elif opt == 8:\n",
    "        issued_books()\n",
    "        if decision():\n",
    "            continue\n",
    "       # break\n",
    "    if opt == 9:\n",
    "        print(\"\\nThanks for using Library Management System\\n\")\n",
    "        break\n",
    "    print(\"\\nThanks for using Library Management System\\n\")\n",
    "    break"
   ]
  }
 ],
 "metadata": {
  "kernelspec": {
   "display_name": "Python [conda env:base] *",
   "language": "python",
   "name": "conda-base-py"
  },
  "language_info": {
   "codemirror_mode": {
    "name": "ipython",
    "version": 3
   },
   "file_extension": ".py",
   "mimetype": "text/x-python",
   "name": "python",
   "nbconvert_exporter": "python",
   "pygments_lexer": "ipython3",
   "version": "3.13.5"
  }
 },
 "nbformat": 4,
 "nbformat_minor": 5
}
